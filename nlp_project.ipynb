{
  "nbformat": 4,
  "nbformat_minor": 0,
  "metadata": {
    "colab": {
      "name": "nlp-project.ipynb",
      "provenance": [],
      "include_colab_link": true
    },
    "kernelspec": {
      "name": "python3",
      "display_name": "Python 3"
    },
    "language_info": {
      "name": "python"
    }
  },
  "cells": [
    {
      "cell_type": "markdown",
      "metadata": {
        "id": "view-in-github",
        "colab_type": "text"
      },
      "source": [
        "<a href=\"https://colab.research.google.com/github/Seeeeeyo/NLP_course_team_project/blob/main/nlp_project.ipynb\" target=\"_parent\"><img src=\"https://colab.research.google.com/assets/colab-badge.svg\" alt=\"Open In Colab\"/></a>"
      ]
    },
    {
      "cell_type": "markdown",
      "metadata": {
        "id": "c2CAKH2sXW29"
      },
      "source": [
        "Link to Notion for the project's ideas: https://www.notion.so/NLP-Project-7d203f74fb5a4e7f905ec7e8bc91b3f5"
      ]
    },
    {
      "cell_type": "markdown",
      "metadata": {
        "id": "b62l7PghXk-f"
      },
      "source": [
        "# DKE - Natural Language Processing\n",
        "\n",
        "\n",
        "# Group Project 2021\n",
        "#🚗 💥 **Les boss en projet** 💥 🚗\n",
        "\n",
        "*Clément Detry, Karim Eschweiler, Selim Gilon, Aaron Schapira, Adèle Imparato*\n",
        "*****\n",
        "\n",
        "\n",
        "\n",
        "💡 Table of contents\n",
        "1. Introduction 🙋🏻‍♂️\n",
        "2. Research Questions 🧐 \n",
        "3. Data Description + scraping ?📝\n",
        "4. Ethical Considerations ⚠️\n",
        "5. Data Cleaning & Preprocessing 🧹\n",
        "6. ...\n",
        "7. ...\n",
        "8. Conclusion 🙌\n",
        "\n",
        "*****"
      ]
    },
    {
      "cell_type": "markdown",
      "metadata": {
        "id": "XhS189tHXoho"
      },
      "source": [
        "## 1. Introduction 🙋🏻‍♂️"
      ]
    },
    {
      "cell_type": "markdown",
      "metadata": {
        "id": "R3BOCOkWW8Js"
      },
      "source": [
        "## 2. Research Questions 🧐"
      ]
    },
    {
      "cell_type": "markdown",
      "metadata": {
        "id": "U5GIhxMwW-Gm"
      },
      "source": [
        "## 3. Data Description 📝"
      ]
    },
    {
      "cell_type": "markdown",
      "metadata": {
        "id": "-wgAj64VW-5P"
      },
      "source": [
        "## 4. Ethical Considerations ⚠️"
      ]
    },
    {
      "cell_type": "markdown",
      "metadata": {
        "id": "QJTRwnHvXOAD"
      },
      "source": [
        "## 5. Data Cleaning & Preprocessing 🧹"
      ]
    },
    {
      "cell_type": "markdown",
      "metadata": {
        "id": "JTVDV_QoXwnH"
      },
      "source": [
        "## .....\n"
      ]
    },
    {
      "cell_type": "markdown",
      "metadata": {
        "id": "prRzeBm8Y4we"
      },
      "source": [
        "Twitter data scrapping"
      ]
    },
    {
      "cell_type": "code",
      "metadata": {
        "id": "PKjnQrxOXzFd"
      },
      "source": [
        ""
      ],
      "execution_count": null,
      "outputs": []
    }
  ]
}